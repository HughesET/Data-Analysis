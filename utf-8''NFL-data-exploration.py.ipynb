{
  "cells": [
    {
      "metadata": {},
      "cell_type": "markdown",
      "source": "Data Exploration - NFL Data\nEvan Hughes"
    },
    {
      "metadata": {
        "trusted": true
      },
      "cell_type": "code",
      "source": "import pandas as pd\n\n# import NFL datasets\nnfl_games = pd.read_csv(\"https://raw.githubusercontent.com/nfl-football-ops/Big-Data-Bowl/master/Data/games.csv\")\nnfl_plays = pd.read_csv(\"https://raw.githubusercontent.com/nfl-football-ops/Big-Data-Bowl/master/Data/plays.csv\")",
      "execution_count": 5,
      "outputs": []
    },
    {
      "metadata": {
        "trusted": true
      },
      "cell_type": "code",
      "source": "# Data Exploration\n\n## dimensions of dataset\nnfl_games.shape\nnfl_games.columns\nnfl_games.head(5)",
      "execution_count": 6,
      "outputs": [
        {
          "output_type": "execute_result",
          "execution_count": 6,
          "data": {
            "text/html": "<div>\n<style scoped>\n    .dataframe tbody tr th:only-of-type {\n        vertical-align: middle;\n    }\n\n    .dataframe tbody tr th {\n        vertical-align: top;\n    }\n\n    .dataframe thead th {\n        text-align: right;\n    }\n</style>\n<table border=\"1\" class=\"dataframe\">\n  <thead>\n    <tr style=\"text-align: right;\">\n      <th></th>\n      <th>season</th>\n      <th>week</th>\n      <th>gameDate</th>\n      <th>gameId</th>\n      <th>gameTimeEastern</th>\n      <th>HomeScore</th>\n      <th>VisitorScore</th>\n      <th>homeTeamAbbr</th>\n      <th>visitorTeamAbbr</th>\n      <th>homeDisplayName</th>\n      <th>...</th>\n      <th>Stadium</th>\n      <th>Location</th>\n      <th>StadiumType</th>\n      <th>Turf</th>\n      <th>GameLength</th>\n      <th>GameWeather</th>\n      <th>Temperature</th>\n      <th>Humidity</th>\n      <th>WindSpeed</th>\n      <th>WindDirection</th>\n    </tr>\n  </thead>\n  <tbody>\n    <tr>\n      <th>0</th>\n      <td>2017</td>\n      <td>1</td>\n      <td>09/10/2017</td>\n      <td>2017091004</td>\n      <td>13:00:00</td>\n      <td>35</td>\n      <td>23</td>\n      <td>DET</td>\n      <td>ARI</td>\n      <td>Detroit Lions</td>\n      <td>...</td>\n      <td>Ford Field</td>\n      <td>Detroit, MI</td>\n      <td>Indoors</td>\n      <td>Field Turf</td>\n      <td>03:26:00</td>\n      <td>Controlled Climate</td>\n      <td>68.0</td>\n      <td>70.0</td>\n      <td>NaN</td>\n      <td>NaN</td>\n    </tr>\n    <tr>\n      <th>1</th>\n      <td>2017</td>\n      <td>1</td>\n      <td>09/07/2017</td>\n      <td>2017090700</td>\n      <td>20:30:00</td>\n      <td>27</td>\n      <td>42</td>\n      <td>NE</td>\n      <td>KC</td>\n      <td>New England Patriots</td>\n      <td>...</td>\n      <td>Gillette Stadium</td>\n      <td>Foxborough, MA</td>\n      <td>Outdoor</td>\n      <td>Field Turf</td>\n      <td>03:37:00</td>\n      <td>Clear and warm</td>\n      <td>63.0</td>\n      <td>77.0</td>\n      <td>8</td>\n      <td>SW</td>\n    </tr>\n    <tr>\n      <th>2</th>\n      <td>2017</td>\n      <td>1</td>\n      <td>09/10/2017</td>\n      <td>2017091003</td>\n      <td>13:00:00</td>\n      <td>18</td>\n      <td>21</td>\n      <td>CLE</td>\n      <td>PIT</td>\n      <td>Cleveland Browns</td>\n      <td>...</td>\n      <td>FirstEnergy</td>\n      <td>Cleveland, Ohio</td>\n      <td>Outdoor</td>\n      <td>Grass</td>\n      <td>02:59:00</td>\n      <td>Sunny</td>\n      <td>63.0</td>\n      <td>53.0</td>\n      <td>11</td>\n      <td>East</td>\n    </tr>\n    <tr>\n      <th>3</th>\n      <td>2017</td>\n      <td>1</td>\n      <td>09/10/2017</td>\n      <td>2017091002</td>\n      <td>13:00:00</td>\n      <td>0</td>\n      <td>20</td>\n      <td>CIN</td>\n      <td>BAL</td>\n      <td>Cincinnati Bengals</td>\n      <td>...</td>\n      <td>Paul Brown Stadium</td>\n      <td>Cincinnati, Ohio</td>\n      <td>Outdoor</td>\n      <td>UBU Sports Speed S5-M</td>\n      <td>02:57:00</td>\n      <td>Sunny</td>\n      <td>68.0</td>\n      <td>43.0</td>\n      <td>9</td>\n      <td>SE</td>\n    </tr>\n    <tr>\n      <th>4</th>\n      <td>2017</td>\n      <td>1</td>\n      <td>09/10/2017</td>\n      <td>2017091000</td>\n      <td>13:00:00</td>\n      <td>21</td>\n      <td>12</td>\n      <td>BUF</td>\n      <td>NYJ</td>\n      <td>Buffalo Bills</td>\n      <td>...</td>\n      <td>New Era Field</td>\n      <td>Orchard Park NY</td>\n      <td>Outdoors</td>\n      <td>A-Turf Titan</td>\n      <td>02:54:00</td>\n      <td>Sun &amp; clouds</td>\n      <td>65.0</td>\n      <td>53.0</td>\n      <td>6</td>\n      <td>NNE</td>\n    </tr>\n  </tbody>\n</table>\n<p>5 rows × 21 columns</p>\n</div>",
            "text/plain": "   season  week    gameDate      gameId gameTimeEastern  HomeScore  \\\n0    2017     1  09/10/2017  2017091004        13:00:00         35   \n1    2017     1  09/07/2017  2017090700        20:30:00         27   \n2    2017     1  09/10/2017  2017091003        13:00:00         18   \n3    2017     1  09/10/2017  2017091002        13:00:00          0   \n4    2017     1  09/10/2017  2017091000        13:00:00         21   \n\n   VisitorScore homeTeamAbbr visitorTeamAbbr       homeDisplayName  \\\n0            23          DET             ARI         Detroit Lions   \n1            42           NE              KC  New England Patriots   \n2            21          CLE             PIT      Cleveland Browns   \n3            20          CIN             BAL    Cincinnati Bengals   \n4            12          BUF             NYJ         Buffalo Bills   \n\n       ...                  Stadium          Location StadiumType  \\\n0      ...               Ford Field       Detroit, MI     Indoors   \n1      ...         Gillette Stadium    Foxborough, MA     Outdoor   \n2      ...              FirstEnergy   Cleveland, Ohio     Outdoor   \n3      ...       Paul Brown Stadium  Cincinnati, Ohio     Outdoor   \n4      ...            New Era Field   Orchard Park NY    Outdoors   \n\n                    Turf GameLength         GameWeather Temperature  Humidity  \\\n0             Field Turf   03:26:00  Controlled Climate        68.0      70.0   \n1             Field Turf   03:37:00      Clear and warm        63.0      77.0   \n2                  Grass   02:59:00               Sunny        63.0      53.0   \n3  UBU Sports Speed S5-M   02:57:00               Sunny        68.0      43.0   \n4           A-Turf Titan   02:54:00        Sun & clouds        65.0      53.0   \n\n   WindSpeed WindDirection  \n0        NaN           NaN  \n1          8            SW  \n2         11          East  \n3          9            SE  \n4          6           NNE  \n\n[5 rows x 21 columns]"
          },
          "metadata": {}
        }
      ]
    },
    {
      "metadata": {
        "trusted": true
      },
      "cell_type": "code",
      "source": "nyg_games = nfl_games.loc[(nfl_games['homeTeamAbbr'] == \"NYG\") | (nfl_games['visitorTeamAbbr'] == \"NYG\")].copy()\n\nnyg_games_tracking = pd.DataFrame()\nfor game in nyg_games['gameId']:\n    game_tracking = pd.read_csv(\"https://raw.githubusercontent.com/nfl-football-ops/Big-Data-Bowl/master/Data/tracking_gameId_{}.csv\".format(game))\n    game_tracking['gameplayId'] = game_tracking['gameId'].astype(str) + \"-\" + game_tracking['playId'].astype(str)\n    nyg_games_tracking = nyg_games_tracking.append(game_tracking, ignore_index=True)",
      "execution_count": 7,
      "outputs": []
    },
    {
      "metadata": {
        "trusted": true
      },
      "cell_type": "code",
      "source": "nfl_plays['gameplayId'] = nfl_plays['gameId'].astype(str) + \"-\" + nfl_plays['playId'].astype(str)\nnyg_plays = nfl_plays[nfl_plays['gameplayId'].isin(nyg_games_tracking['gameplayId'].unique())].copy()\nnyg_plays.loc[:, 'gameplayId'] = nyg_plays['gameId'].astype(str) + \"-\" + nfl_plays['playId'].astype(str)",
      "execution_count": 10,
      "outputs": []
    },
    {
      "metadata": {
        "trusted": true
      },
      "cell_type": "code",
      "source": "nyg_plays.loc[:, 'gameplaytimeId'] = nyg_plays['quarter'] * (pd.to_datetime('1900-01-01 00:15:00') - pd.to_datetime(nyg_plays['GameClock'], format='%M:%S:%f'))\nnyg_plays.head(5)",
      "execution_count": 13,
      "outputs": [
        {
          "output_type": "execute_result",
          "execution_count": 13,
          "data": {
            "text/html": "<div>\n<style scoped>\n    .dataframe tbody tr th:only-of-type {\n        vertical-align: middle;\n    }\n\n    .dataframe tbody tr th {\n        vertical-align: top;\n    }\n\n    .dataframe thead th {\n        text-align: right;\n    }\n</style>\n<table border=\"1\" class=\"dataframe\">\n  <thead>\n    <tr style=\"text-align: right;\">\n      <th></th>\n      <th>gameId</th>\n      <th>playId</th>\n      <th>quarter</th>\n      <th>GameClock</th>\n      <th>down</th>\n      <th>yardsToGo</th>\n      <th>possessionTeam</th>\n      <th>yardlineSide</th>\n      <th>yardlineNumber</th>\n      <th>offenseFormation</th>\n      <th>...</th>\n      <th>isSTPlay</th>\n      <th>SpecialTeamsPlayType</th>\n      <th>KickReturnYardage</th>\n      <th>PassLength</th>\n      <th>PassResult</th>\n      <th>YardsAfterCatch</th>\n      <th>PlayResult</th>\n      <th>playDescription</th>\n      <th>gameplayId</th>\n      <th>gameplaytimeId</th>\n    </tr>\n  </thead>\n  <tbody>\n    <tr>\n      <th>1821</th>\n      <td>2017091012</td>\n      <td>44</td>\n      <td>1</td>\n      <td>15:00:00</td>\n      <td>0</td>\n      <td>0</td>\n      <td>NYG</td>\n      <td>NYG</td>\n      <td>35.0</td>\n      <td>NaN</td>\n      <td>...</td>\n      <td>True</td>\n      <td>Kickoff</td>\n      <td>25.0</td>\n      <td>NaN</td>\n      <td>NaN</td>\n      <td>NaN</td>\n      <td>41</td>\n      <td>A.Rosas kicks 66 yards from NYG 35 to DAL -1. ...</td>\n      <td>2017091012-44</td>\n      <td>00:00:00</td>\n    </tr>\n    <tr>\n      <th>1822</th>\n      <td>2017091012</td>\n      <td>66</td>\n      <td>1</td>\n      <td>14:55:00</td>\n      <td>1</td>\n      <td>10</td>\n      <td>DAL</td>\n      <td>DAL</td>\n      <td>24.0</td>\n      <td>SINGLEBACK</td>\n      <td>...</td>\n      <td>False</td>\n      <td>NaN</td>\n      <td>NaN</td>\n      <td>NaN</td>\n      <td>R</td>\n      <td>NaN</td>\n      <td>6</td>\n      <td>(14:55) D.Prescott scrambles left end pushed o...</td>\n      <td>2017091012-66</td>\n      <td>00:00:05</td>\n    </tr>\n    <tr>\n      <th>1823</th>\n      <td>2017091012</td>\n      <td>87</td>\n      <td>1</td>\n      <td>14:25:00</td>\n      <td>2</td>\n      <td>4</td>\n      <td>DAL</td>\n      <td>DAL</td>\n      <td>30.0</td>\n      <td>SINGLEBACK</td>\n      <td>...</td>\n      <td>False</td>\n      <td>NaN</td>\n      <td>NaN</td>\n      <td>NaN</td>\n      <td>NaN</td>\n      <td>NaN</td>\n      <td>3</td>\n      <td>(14:25) E.Elliott right guard to DAL 33 for 3 ...</td>\n      <td>2017091012-87</td>\n      <td>00:00:35</td>\n    </tr>\n    <tr>\n      <th>1824</th>\n      <td>2017091012</td>\n      <td>108</td>\n      <td>1</td>\n      <td>13:45:00</td>\n      <td>3</td>\n      <td>1</td>\n      <td>DAL</td>\n      <td>DAL</td>\n      <td>33.0</td>\n      <td>SHOTGUN</td>\n      <td>...</td>\n      <td>False</td>\n      <td>NaN</td>\n      <td>NaN</td>\n      <td>NaN</td>\n      <td>NaN</td>\n      <td>NaN</td>\n      <td>1</td>\n      <td>(13:45) (Shotgun) D.Prescott up the middle to ...</td>\n      <td>2017091012-108</td>\n      <td>00:01:15</td>\n    </tr>\n    <tr>\n      <th>1825</th>\n      <td>2017091012</td>\n      <td>129</td>\n      <td>1</td>\n      <td>13:06:00</td>\n      <td>1</td>\n      <td>10</td>\n      <td>DAL</td>\n      <td>DAL</td>\n      <td>34.0</td>\n      <td>SINGLEBACK</td>\n      <td>...</td>\n      <td>False</td>\n      <td>NaN</td>\n      <td>NaN</td>\n      <td>NaN</td>\n      <td>NaN</td>\n      <td>NaN</td>\n      <td>3</td>\n      <td>(13:06) E.Elliott right tackle to DAL 37 for 3...</td>\n      <td>2017091012-129</td>\n      <td>00:01:54</td>\n    </tr>\n  </tbody>\n</table>\n<p>5 rows × 29 columns</p>\n</div>",
            "text/plain": "          gameId  playId  quarter GameClock  down  yardsToGo possessionTeam  \\\n1821  2017091012      44        1  15:00:00     0          0            NYG   \n1822  2017091012      66        1  14:55:00     1         10            DAL   \n1823  2017091012      87        1  14:25:00     2          4            DAL   \n1824  2017091012     108        1  13:45:00     3          1            DAL   \n1825  2017091012     129        1  13:06:00     1         10            DAL   \n\n     yardlineSide  yardlineNumber offenseFormation       ...       isSTPlay  \\\n1821          NYG            35.0              NaN       ...           True   \n1822          DAL            24.0       SINGLEBACK       ...          False   \n1823          DAL            30.0       SINGLEBACK       ...          False   \n1824          DAL            33.0          SHOTGUN       ...          False   \n1825          DAL            34.0       SINGLEBACK       ...          False   \n\n      SpecialTeamsPlayType  KickReturnYardage PassLength  PassResult  \\\n1821               Kickoff               25.0        NaN         NaN   \n1822                   NaN                NaN        NaN           R   \n1823                   NaN                NaN        NaN         NaN   \n1824                   NaN                NaN        NaN         NaN   \n1825                   NaN                NaN        NaN         NaN   \n\n      YardsAfterCatch  PlayResult  \\\n1821              NaN          41   \n1822              NaN           6   \n1823              NaN           3   \n1824              NaN           1   \n1825              NaN           3   \n\n                                        playDescription      gameplayId  \\\n1821  A.Rosas kicks 66 yards from NYG 35 to DAL -1. ...   2017091012-44   \n1822  (14:55) D.Prescott scrambles left end pushed o...   2017091012-66   \n1823  (14:25) E.Elliott right guard to DAL 33 for 3 ...   2017091012-87   \n1824  (13:45) (Shotgun) D.Prescott up the middle to ...  2017091012-108   \n1825  (13:06) E.Elliott right tackle to DAL 37 for 3...  2017091012-129   \n\n      gameplaytimeId  \n1821        00:00:00  \n1822        00:00:05  \n1823        00:00:35  \n1824        00:01:15  \n1825        00:01:54  \n\n[5 rows x 29 columns]"
          },
          "metadata": {}
        }
      ]
    },
    {
      "metadata": {
        "trusted": true
      },
      "cell_type": "code",
      "source": "row = 0\ndrive_number = 0\nfor index in nyg_plays.index:\n    if row >= (nyg_plays.shape[0] - 1):\n        nyg_plays.loc[(nyg_plays.index[row]), 'driveId'] = drive_number    \n    elif nyg_plays.loc[(nyg_plays.index[row]), 'possessionTeam'] == nyg_plays.loc[(nyg_plays.index[row+1]), 'possessionTeam']:\n        nyg_plays.loc[(nyg_plays.index[row]), 'driveId'] = drive_number \n    else:\n        nyg_plays.loc[(nyg_plays.index[row]), 'driveId'] = drive_number\n        drive_number = drive_number + 1\n    row = row + 1\n    \nnyg_plays['gameplaydriveId'] = nyg_plays['gameplayId'].astype(str) + \"-\" + nyg_plays['driveId'].astype(str)",
      "execution_count": null,
      "outputs": []
    },
    {
      "metadata": {
        "trusted": true
      },
      "cell_type": "code",
      "source": "nyg_plays_off = nyg_plays.loc[nyg_plays['possessionTeam'] == \"NYG\"]\nnyg_plays_off_tracking = nyg_games_tracking.loc[nyg_games_tracking['gameplayId'].isin(nyg_plays_off['gameplayId'].unique())]\nnyg_plays_off_tracking.head(5)",
      "execution_count": 14,
      "outputs": [
        {
          "output_type": "execute_result",
          "execution_count": 14,
          "data": {
            "text/html": "<div>\n<style scoped>\n    .dataframe tbody tr th:only-of-type {\n        vertical-align: middle;\n    }\n\n    .dataframe tbody tr th {\n        vertical-align: top;\n    }\n\n    .dataframe thead th {\n        text-align: right;\n    }\n</style>\n<table border=\"1\" class=\"dataframe\">\n  <thead>\n    <tr style=\"text-align: right;\">\n      <th></th>\n      <th>time</th>\n      <th>x</th>\n      <th>y</th>\n      <th>s</th>\n      <th>dis</th>\n      <th>dir</th>\n      <th>event</th>\n      <th>nflId</th>\n      <th>displayName</th>\n      <th>jerseyNumber</th>\n      <th>team</th>\n      <th>frame.id</th>\n      <th>gameId</th>\n      <th>playId</th>\n      <th>gameplayId</th>\n    </tr>\n  </thead>\n  <tbody>\n    <tr>\n      <th>0</th>\n      <td>2017-09-11T00:31:28Z</td>\n      <td>79.47</td>\n      <td>43.12</td>\n      <td>0.37</td>\n      <td>0.00</td>\n      <td>283.03</td>\n      <td>NaN</td>\n      <td>2495159.0</td>\n      <td>Dwayne Harris</td>\n      <td>17.0</td>\n      <td>away</td>\n      <td>1</td>\n      <td>2017091012</td>\n      <td>44</td>\n      <td>2017091012-44</td>\n    </tr>\n    <tr>\n      <th>1</th>\n      <td>2017-09-11T00:31:29Z</td>\n      <td>79.47</td>\n      <td>43.12</td>\n      <td>0.61</td>\n      <td>0.00</td>\n      <td>279.91</td>\n      <td>NaN</td>\n      <td>2495159.0</td>\n      <td>Dwayne Harris</td>\n      <td>17.0</td>\n      <td>away</td>\n      <td>2</td>\n      <td>2017091012</td>\n      <td>44</td>\n      <td>2017091012-44</td>\n    </tr>\n    <tr>\n      <th>2</th>\n      <td>2017-09-11T00:31:29Z</td>\n      <td>79.47</td>\n      <td>43.12</td>\n      <td>0.84</td>\n      <td>0.00</td>\n      <td>275.20</td>\n      <td>NaN</td>\n      <td>2495159.0</td>\n      <td>Dwayne Harris</td>\n      <td>17.0</td>\n      <td>away</td>\n      <td>3</td>\n      <td>2017091012</td>\n      <td>44</td>\n      <td>2017091012-44</td>\n    </tr>\n    <tr>\n      <th>3</th>\n      <td>2017-09-11T00:31:29Z</td>\n      <td>79.46</td>\n      <td>43.12</td>\n      <td>1.07</td>\n      <td>0.00</td>\n      <td>272.42</td>\n      <td>NaN</td>\n      <td>2495159.0</td>\n      <td>Dwayne Harris</td>\n      <td>17.0</td>\n      <td>away</td>\n      <td>4</td>\n      <td>2017091012</td>\n      <td>44</td>\n      <td>2017091012-44</td>\n    </tr>\n    <tr>\n      <th>4</th>\n      <td>2017-09-11T00:31:29Z</td>\n      <td>79.46</td>\n      <td>43.12</td>\n      <td>1.30</td>\n      <td>0.01</td>\n      <td>270.77</td>\n      <td>NaN</td>\n      <td>2495159.0</td>\n      <td>Dwayne Harris</td>\n      <td>17.0</td>\n      <td>away</td>\n      <td>5</td>\n      <td>2017091012</td>\n      <td>44</td>\n      <td>2017091012-44</td>\n    </tr>\n  </tbody>\n</table>\n</div>",
            "text/plain": "                   time      x      y     s   dis     dir event      nflId  \\\n0  2017-09-11T00:31:28Z  79.47  43.12  0.37  0.00  283.03   NaN  2495159.0   \n1  2017-09-11T00:31:29Z  79.47  43.12  0.61  0.00  279.91   NaN  2495159.0   \n2  2017-09-11T00:31:29Z  79.47  43.12  0.84  0.00  275.20   NaN  2495159.0   \n3  2017-09-11T00:31:29Z  79.46  43.12  1.07  0.00  272.42   NaN  2495159.0   \n4  2017-09-11T00:31:29Z  79.46  43.12  1.30  0.01  270.77   NaN  2495159.0   \n\n     displayName  jerseyNumber  team  frame.id      gameId  playId  \\\n0  Dwayne Harris          17.0  away         1  2017091012      44   \n1  Dwayne Harris          17.0  away         2  2017091012      44   \n2  Dwayne Harris          17.0  away         3  2017091012      44   \n3  Dwayne Harris          17.0  away         4  2017091012      44   \n4  Dwayne Harris          17.0  away         5  2017091012      44   \n\n      gameplayId  \n0  2017091012-44  \n1  2017091012-44  \n2  2017091012-44  \n3  2017091012-44  \n4  2017091012-44  "
          },
          "metadata": {}
        }
      ]
    }
  ],
  "metadata": {
    "kernelspec": {
      "name": "python36",
      "display_name": "Python 3.6",
      "language": "python"
    }
  },
  "nbformat": 4,
  "nbformat_minor": 2
}